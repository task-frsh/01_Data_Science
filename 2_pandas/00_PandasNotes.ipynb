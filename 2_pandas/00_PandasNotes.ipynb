{
 "cells": [
  {
   "cell_type": "markdown",
   "metadata": {},
   "source": [
    "# PANDAS NOTE"
   ]
  },
  {
   "cell_type": "code",
   "execution_count": 1,
   "metadata": {},
   "outputs": [],
   "source": [
    "# 시작 전 꼭 pandas를 import하자\n",
    "\n",
    "import pandas as pd"
   ]
  },
  {
   "cell_type": "markdown",
   "metadata": {},
   "source": [
    "# 01 한글폰트 설정"
   ]
  },
  {
   "cell_type": "markdown",
   "metadata": {},
   "source": [
    "## COLAB ver."
   ]
  },
  {
   "cell_type": "code",
   "execution_count": 5,
   "metadata": {},
   "outputs": [],
   "source": [
    "# 한글폰트 설치\n",
    "\n",
    "# !sudo apt-get install -y fonts-nanum\n",
    "# !sudo fc-cache - fv\n",
    "# !rm ~/.cache/matplotlib -rf"
   ]
  },
  {
   "cell_type": "code",
   "execution_count": 6,
   "metadata": {},
   "outputs": [],
   "source": [
    "# matplotlib 나눔바른고딕으로 폰트 변경\n",
    "\n",
    "# import matplotlib.pyplot as plt\n",
    "# plt.rc('font', family='NanumBarunGothic')"
   ]
  },
  {
   "cell_type": "markdown",
   "metadata": {},
   "source": [
    "### ! 폰트 설치 후 반드시 재시작!"
   ]
  },
  {
   "cell_type": "markdown",
   "metadata": {},
   "source": [
    "## VS CODE ver."
   ]
  },
  {
   "cell_type": "code",
   "execution_count": 4,
   "metadata": {},
   "outputs": [],
   "source": [
    "# 기본 폰트 : 맑은 고딕\n",
    "\n",
    "import matplotlib.pyplot as plt\n",
    "plt.rcParams['font.family'] ='Malgun Gothic'\n",
    "plt.rcParams['axes.unicode_minus'] =False"
   ]
  },
  {
   "cell_type": "code",
   "execution_count": null,
   "metadata": {},
   "outputs": [],
   "source": [
    "# 원하는 폰트가 있는 경우\n",
    "\n",
    "import matplotlib.pyplot as plt\n",
    "import matplotlib.font_manager as fm\n",
    "\n",
    "# 나눔글꼴 경로 설정\n",
    "font_path = 'C:/Windows/Fonts/NanumGothic.ttf'\n",
    "\n",
    "# 폰트 이름 가져오기\n",
    "font_name = fm.FontProperties(fname=font_path).get_name()\n",
    "\n",
    "# 폰트 설정\n",
    "plt.rc('font', family=font_name)"
   ]
  },
  {
   "cell_type": "markdown",
   "metadata": {},
   "source": [
    "# 02 파일 불러오기"
   ]
  },
  {
   "cell_type": "code",
   "execution_count": null,
   "metadata": {},
   "outputs": [],
   "source": [
    "# 코랩 - 구글 드라이브 연동\n",
    "# 구글드라이브 마운트 -> 구글드라이브에 있는 csv, xlsx파일 가져오기위해\n",
    "\n",
    "# from google.colab import drive\n",
    "# drive.mount('/content/drive')"
   ]
  },
  {
   "cell_type": "code",
   "execution_count": null,
   "metadata": {},
   "outputs": [],
   "source": [
    "# 파일이 저장된 경로 복사해서 가져오기\n",
    "# encoding 확인\n",
    "\n",
    "CCTV_Seoul = pd.read_csv('C:\\Users\\SBA\\SeSAC clss\\DataScience\\data\\01. CCTV_in_Seoul.csv',  encoding='utf-8')\n",
    "CCTV_Seoul.head()"
   ]
  }
 ],
 "metadata": {
  "kernelspec": {
   "display_name": "pythonEx",
   "language": "python",
   "name": "python3"
  },
  "language_info": {
   "codemirror_mode": {
    "name": "ipython",
    "version": 3
   },
   "file_extension": ".py",
   "mimetype": "text/x-python",
   "name": "python",
   "nbconvert_exporter": "python",
   "pygments_lexer": "ipython3",
   "version": "3.10.12"
  }
 },
 "nbformat": 4,
 "nbformat_minor": 2
}
